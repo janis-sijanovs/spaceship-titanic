{
 "cells": [
  {
   "cell_type": "code",
   "execution_count": 1220,
   "metadata": {},
   "outputs": [],
   "source": [
    "import pandas as pd\n",
    "import numpy as np\n",
    "\n",
    "df = pd.read_csv(\"./data/train.csv\")\n",
    "df = df.drop(\"PassengerId\", axis=1)\n",
    "df = df.drop(\"Name\", axis=1)\n",
    "df = df.dropna()"
   ]
  },
  {
   "cell_type": "code",
   "execution_count": 1221,
   "metadata": {},
   "outputs": [],
   "source": [
    "from sklearn.preprocessing import LabelEncoder\n",
    "le = LabelEncoder()\n",
    "df.loc[:, \"Destination\"] = le.fit_transform(df[\"Destination\"])\n",
    "df.loc[:, \"HomePlanet\"] = le.fit_transform(df[\"HomePlanet\"])\n"
   ]
  },
  {
   "cell_type": "code",
   "execution_count": 1222,
   "metadata": {},
   "outputs": [],
   "source": [
    "df['CryoSleep'] = df['CryoSleep'].apply(lambda x: np.array(x, dtype=bool))\n",
    "df['VIP'] = df['VIP'].apply(lambda x: np.array(x, dtype=bool))"
   ]
  },
  {
   "cell_type": "code",
   "execution_count": 1223,
   "metadata": {},
   "outputs": [],
   "source": [
    "df[['Deck', 'Room', 'Seat']] = df['Cabin'].str.extractall(r'\\b([A-Za-z0-9]|[A-Za-z0-9]+)\\b').unstack()\n",
    "\n",
    "df.loc[:, \"Deck\"] = le.fit_transform(df[\"Deck\"])\n",
    "df.loc[:, \"Seat\"] = le.fit_transform(df[\"Seat\"])\n",
    "\n",
    "df = df.drop(\"Cabin\", axis=1)"
   ]
  },
  {
   "cell_type": "code",
   "execution_count": 1224,
   "metadata": {},
   "outputs": [],
   "source": [
    "selected_cols = ['HomePlanet', 'CryoSleep', 'Destination', 'Age', 'VIP', 'RoomService',\n",
    "       'FoodCourt', 'ShoppingMall', 'Spa', 'VRDeck', 'Transported', \"Deck\", \"Seat\"]\n",
    "df = df.loc[:, selected_cols]"
   ]
  },
  {
   "cell_type": "code",
   "execution_count": 1225,
   "metadata": {},
   "outputs": [],
   "source": [
    "from sklearn.compose import make_column_transformer\n",
    "from sklearn.preprocessing import MinMaxScaler\n",
    "\n",
    "# cols_to_transform = [\"RoomService\", \"FoodCourt\", \"ShoppingMall\", \"Spa\", \"VRDeck\", \"HomePlanet\", \"Destination\", \"Age\", \"Deck\", \"Room\", \"Seat\"]\n",
    "cols_to_transform = [\"RoomService\", \"FoodCourt\", \"ShoppingMall\", \"Spa\", \"VRDeck\", \"HomePlanet\", \"Destination\", \"Age\", \"Deck\", \"Seat\"]\n",
    "\n",
    "ct = make_column_transformer(\n",
    "    (MinMaxScaler(), cols_to_transform), remainder='passthrough'\n",
    ")"
   ]
  },
  {
   "cell_type": "code",
   "execution_count": 1226,
   "metadata": {},
   "outputs": [],
   "source": [
    "from sklearn.model_selection import train_test_split\n",
    "\n",
    "X = df.drop(\"Transported\", axis=1)\n",
    "y = df[\"Transported\"]\n",
    "\n",
    "X_train, X_test, y_train, y_test = train_test_split(X, y, test_size=0.2)"
   ]
  },
  {
   "cell_type": "code",
   "execution_count": 1227,
   "metadata": {},
   "outputs": [],
   "source": [
    "ct.fit(X_train)\n",
    "X_train_normal = ct.transform(X_train)\n",
    "X_test_normal = ct.transform(X_test)"
   ]
  },
  {
   "cell_type": "code",
   "execution_count": 1228,
   "metadata": {},
   "outputs": [],
   "source": [
    "import torch\n",
    "from torch import nn\n",
    "\n",
    "device = \"cuda\" if torch.cuda.is_available() else \"cpu\""
   ]
  },
  {
   "cell_type": "code",
   "execution_count": 1229,
   "metadata": {},
   "outputs": [],
   "source": [
    "train_data = torch.tensor(X_train_normal, dtype=torch.float32).to(device)\n",
    "train_labels = torch.tensor(y_train.values, dtype=torch.float32).to(device)\n",
    "\n",
    "test_data = torch.tensor(X_test_normal, dtype=torch.float32).to(device)\n",
    "test_labels = torch.tensor(y_test.values, dtype=torch.float32).to(device)"
   ]
  },
  {
   "cell_type": "code",
   "execution_count": 1230,
   "metadata": {},
   "outputs": [],
   "source": [
    "from torch.utils.data import DataLoader, TensorDataset\n",
    "\n",
    "batch_size = 32\n",
    "\n",
    "dataset = TensorDataset(train_data, train_labels)\n",
    "dataloader = DataLoader(dataset, batch_size=batch_size, shuffle=True)"
   ]
  },
  {
   "cell_type": "code",
   "execution_count": 1231,
   "metadata": {},
   "outputs": [],
   "source": [
    "input_size = train_data.shape[1]\n",
    "hidden_size = 65\n",
    "output_size = 1\n",
    "\n",
    "model = nn.Sequential(\n",
    "    nn.Linear(input_size, hidden_size),\n",
    "    nn.ReLU(),\n",
    "    nn.Linear(hidden_size, hidden_size),\n",
    "    nn.ReLU(),\n",
    "    nn.Linear(hidden_size, output_size),\n",
    "    nn.Sigmoid()\n",
    ").to(device)"
   ]
  },
  {
   "cell_type": "code",
   "execution_count": 1232,
   "metadata": {},
   "outputs": [],
   "source": [
    "loss_fn = nn.BCELoss()\n",
    "\n",
    "optimizer = torch.optim.Adam(params=model.parameters(), lr=0.001)\n",
    "# optimizer = torch.optim.SGD(params=model.parameters(), lr=0.01)"
   ]
  },
  {
   "cell_type": "code",
   "execution_count": 1233,
   "metadata": {},
   "outputs": [
    {
     "name": "stdout",
     "output_type": "stream",
     "text": [
      "Epoch: 1 | Loss: 0.80 | Test: 0.51 | Test acc: 0.75\n",
      "Epoch: 6 | Loss: 0.50 | Test: 0.42 | Test acc: 0.81\n",
      "Epoch: 11 | Loss: 0.96 | Test: 0.41 | Test acc: 0.82\n",
      "Epoch: 16 | Loss: 0.95 | Test: 0.41 | Test acc: 0.81\n",
      "Epoch: 21 | Loss: 0.37 | Test: 0.40 | Test acc: 0.82\n",
      "Epoch: 26 | Loss: 0.11 | Test: 0.40 | Test acc: 0.82\n",
      "Epoch: 31 | Loss: 0.09 | Test: 0.40 | Test acc: 0.81\n",
      "Epoch: 36 | Loss: 0.40 | Test: 0.41 | Test acc: 0.81\n",
      "Epoch: 41 | Loss: 0.86 | Test: 0.40 | Test acc: 0.81\n",
      "Epoch: 46 | Loss: 0.41 | Test: 0.39 | Test acc: 0.82\n",
      "Epoch: 51 | Loss: 0.21 | Test: 0.40 | Test acc: 0.82\n",
      "Epoch: 56 | Loss: 0.49 | Test: 0.40 | Test acc: 0.81\n",
      "Epoch: 61 | Loss: 0.36 | Test: 0.39 | Test acc: 0.83\n",
      "Epoch: 66 | Loss: 0.18 | Test: 0.39 | Test acc: 0.83\n",
      "Epoch: 71 | Loss: 0.26 | Test: 0.39 | Test acc: 0.82\n",
      "Epoch: 76 | Loss: 0.03 | Test: 0.40 | Test acc: 0.81\n",
      "Epoch: 81 | Loss: 0.19 | Test: 0.38 | Test acc: 0.83\n",
      "Epoch: 86 | Loss: 0.25 | Test: 0.38 | Test acc: 0.82\n",
      "Epoch: 91 | Loss: 1.23 | Test: 0.38 | Test acc: 0.82\n",
      "Epoch: 96 | Loss: 0.55 | Test: 0.38 | Test acc: 0.81\n",
      "Epoch: 100 | Loss: 0.44 | Test: 0.38 | Test acc: 0.82\n"
     ]
    }
   ],
   "source": [
    "epochs = 100\n",
    "\n",
    "for epoch in range(epochs):\n",
    "    model.train()\n",
    "    for batch, (data, labels) in enumerate(dataloader):\n",
    "        # Move data to device\n",
    "        data, labels = data.to(device), labels.to(device)\n",
    "        \n",
    "        # Forward pass\n",
    "        pred = model(data)\n",
    "        loss = loss_fn(pred.squeeze(), labels)\n",
    "        \n",
    "        # Backward pass and update weights\n",
    "        optimizer.zero_grad()\n",
    "        loss.backward()\n",
    "        optimizer.step()\n",
    "\n",
    "    model.eval()\n",
    "    with torch.inference_mode():\n",
    "        test_pred = model(test_data)\n",
    "\n",
    "        test_loss = loss_fn(test_pred.squeeze(),\n",
    "                            test_labels)\n",
    "        \n",
    "        correct = (torch.round(test_pred).squeeze() == test_labels).sum().item()\n",
    "        total = test_labels.shape[0]\n",
    "        accuracy = correct / total\n",
    "\n",
    "    if epoch % 5 == 0 or epoch == epochs-1:\n",
    "        print(f\"Epoch: {epoch+1} | Loss: {loss:.2f} | Test: {test_loss:.2f} | Test acc: {accuracy:.2f}\")\n"
   ]
  },
  {
   "cell_type": "code",
   "execution_count": 1234,
   "metadata": {},
   "outputs": [
    {
     "data": {
      "text/plain": [
       "(0.0662808045744896, 'Correct')"
      ]
     },
     "execution_count": 1234,
     "metadata": {},
     "output_type": "execute_result"
    }
   ],
   "source": [
    "i = 1003\n",
    "model.eval()\n",
    "with torch.inference_mode():\n",
    "    test_pred = model(test_data[i])\n",
    "float(test_pred[0]), \"Correct\" if test_pred[0] < 0.5 and not test_labels[i] or test_pred[0] > 0.5 and  test_labels[i] else \"Wrong\"\n"
   ]
  },
  {
   "cell_type": "code",
   "execution_count": 1235,
   "metadata": {},
   "outputs": [],
   "source": [
    "challenge_df = pd.read_csv(\"./data/test.csv\")"
   ]
  },
  {
   "cell_type": "code",
   "execution_count": 1236,
   "metadata": {},
   "outputs": [],
   "source": [
    "passenger_ids = challenge_df.pop(\"PassengerId\")\n",
    "passenger_ids = passenger_ids.to_frame()"
   ]
  },
  {
   "cell_type": "code",
   "execution_count": 1237,
   "metadata": {},
   "outputs": [],
   "source": [
    "cols_with_nan = challenge_df.columns[challenge_df.isna().any()].tolist()\n",
    "\n",
    "for col in cols_with_nan:\n",
    "    most_common_value = challenge_df[col].value_counts().idxmax()\n",
    "    challenge_df[col].fillna(most_common_value, inplace=True)\n",
    "    "
   ]
  },
  {
   "cell_type": "code",
   "execution_count": 1238,
   "metadata": {},
   "outputs": [],
   "source": [
    "challenge_df.loc[:, \"Destination\"] = le.fit_transform(challenge_df[\"Destination\"])\n",
    "challenge_df.loc[:, \"HomePlanet\"] = le.fit_transform(challenge_df[\"HomePlanet\"])\n",
    "\n",
    "challenge_df['CryoSleep'] = challenge_df['CryoSleep'].apply(lambda x: np.array(x, dtype=bool))\n",
    "challenge_df['VIP'] = challenge_df['VIP'].apply(lambda x: np.array(x, dtype=bool))"
   ]
  },
  {
   "cell_type": "code",
   "execution_count": 1239,
   "metadata": {},
   "outputs": [],
   "source": [
    "challenge_df[['Deck', 'Room', 'Seat']] = challenge_df['Cabin'].str.extractall(r'\\b([A-Za-z0-9]|[A-Za-z0-9]+)\\b').unstack()\n",
    "\n",
    "challenge_df.loc[:, \"Deck\"] = le.fit_transform(challenge_df[\"Deck\"])\n",
    "challenge_df.loc[:, \"Seat\"] = le.fit_transform(challenge_df[\"Seat\"])\n",
    "\n",
    "challenge_df = challenge_df.drop(\"Cabin\", axis=1)"
   ]
  },
  {
   "cell_type": "code",
   "execution_count": 1240,
   "metadata": {},
   "outputs": [],
   "source": [
    "selected_cols = ['HomePlanet', 'CryoSleep', 'Destination', 'Age', 'VIP', 'RoomService',\n",
    "       'FoodCourt', 'ShoppingMall', 'Spa', 'VRDeck', \"Deck\", \"Seat\"]\n",
    "challenge_df = challenge_df.loc[:, selected_cols]"
   ]
  },
  {
   "cell_type": "code",
   "execution_count": 1241,
   "metadata": {},
   "outputs": [],
   "source": [
    "X_challenge_data = ct.transform(challenge_df)\n",
    "X_challenge_data = torch.tensor(X_challenge_data, dtype=torch.float32).to(device)"
   ]
  },
  {
   "cell_type": "code",
   "execution_count": 1242,
   "metadata": {},
   "outputs": [],
   "source": [
    "model.eval()\n",
    "with torch.inference_mode():\n",
    "    challenge_preds = torch.round(model(X_challenge_data)).to(dtype=bool).squeeze()"
   ]
  },
  {
   "cell_type": "code",
   "execution_count": 1243,
   "metadata": {},
   "outputs": [],
   "source": [
    "bool_list = challenge_preds.tolist()\n",
    "passenger_ids[\"Transported\"] = bool_list"
   ]
  },
  {
   "cell_type": "code",
   "execution_count": 1246,
   "metadata": {},
   "outputs": [],
   "source": [
    "passenger_ids.to_csv('./data/prediction_results.csv', index=False)"
   ]
  },
  {
   "cell_type": "code",
   "execution_count": null,
   "metadata": {},
   "outputs": [],
   "source": []
  }
 ],
 "metadata": {
  "kernelspec": {
   "display_name": "pytorch-main",
   "language": "python",
   "name": "python3"
  },
  "language_info": {
   "codemirror_mode": {
    "name": "ipython",
    "version": 3
   },
   "file_extension": ".py",
   "mimetype": "text/x-python",
   "name": "python",
   "nbconvert_exporter": "python",
   "pygments_lexer": "ipython3",
   "version": "3.11.3"
  },
  "orig_nbformat": 4
 },
 "nbformat": 4,
 "nbformat_minor": 2
}
